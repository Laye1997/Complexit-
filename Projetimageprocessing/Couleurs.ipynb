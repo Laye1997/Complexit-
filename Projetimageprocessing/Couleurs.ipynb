{
 "cells": [
  {
   "cell_type": "code",
   "execution_count": 1,
   "metadata": {},
   "outputs": [],
   "source": [
    "%matplotlib inline\n",
    "import matplotlib.pyplot as plt\n",
    "import math\n",
    "import numpy as np\n",
    "import matplotlib.path as mpath\n",
    "import matplotlib.lines as mlines\n",
    "import matplotlib.patches as mpatches\n",
    "\n",
    "import matplotlib.image as mpimg"
   ]
  },
  {
   "cell_type": "code",
   "execution_count": 2,
   "metadata": {},
   "outputs": [],
   "source": [
    "## Creer votre propre Type de données abstrait Couleur sous python avec les caractériistiques suivants:\n",
    "class Couleur:\n",
    "    '''\n",
    "    Constructeur à 3 paramétres qui represente les valeurs entiéres des différentes couleurs\n",
    "    '''\n",
    "    \n",
    "    def __init__(self,R,G,B,name=None):\n",
    "        self.R = R\n",
    "        self.G = G\n",
    "        self.B = B\n",
    "\n",
    "        \n",
    "    '''\n",
    "    Creer une couleur à partir d'une liste\n",
    "    '''\n",
    "    @staticmethod\n",
    "    def creerCouleur( listeRGB):\n",
    "        listeRGB = list(matplotlib.colors.cnames.keys())\n",
    "        (R, G, B) = colors.colorConverter.to_rgb(listeRGB[ind])\n",
    "        return (R, G, B)\n",
    "            \n",
    "    \n",
    "    '''\n",
    "    Recupération de l'intensite de la couleur rouge\n",
    "    '''\n",
    "    def getR(self):\n",
    "        x = input(\"valeur x\")\n",
    "        y = input(\"valeur y\")\n",
    "        self.R = ref_image.getpixel((x,y))  \n",
    "        \n",
    "    '''\n",
    "    Recupération de l'intensite de la couleur verte\n",
    "    '''\n",
    "    def getG(self):\n",
    "        self.G = ref_image.getpixel((x,y))\n",
    "\n",
    "\n",
    "        \n",
    "    '''\n",
    "    Recupération de l'intensite de la couleur bleu\n",
    "    '''\n",
    "    def getB(self):\n",
    "         self.B = ref_image.getpixel((x,y))\n",
    "        \n",
    "    '''\n",
    "    Version brillante de cet objet couleur\n",
    "    Il faut caculer le meme pourcentage de R,G,B\n",
    "    Ajouter ces valeurs aux valeurs R,G,B de l'objet couleur originel\n",
    "    Retourne un objet couleur\n",
    "    '''\n",
    "    def brighter(self,pourcentage):\n",
    "        self.R = [(255 - self.R) * pourcentage] + self.R\n",
    "        self.G = [(255 - self.G) * pourcentage] + self.G\n",
    "        self.B = [(255 - self.B) * pourcentage] + self.B\n",
    "        return new_color(self.R, self.G, self.B)\n",
    "    '''\n",
    "    Version sombre de cet objet couleur\n",
    "    \n",
    "    Il suffit de multiplier toutes les composantes R, G, B par le pourcentage passé en paramétre\n",
    "    \n",
    "    https://graphicdesign.stackexchange.com/questions/75417/how-to-make-a-given-color-a-bit-darker-or-lighter\n",
    "    \n",
    "    Retourne un objet couleur\n",
    "    '''\n",
    "    def darker(self,pourcentage):\n",
    "        self.R = self.R * pourcentage\n",
    "        self.G = self.G * pourcentage\n",
    "        self.B = self.B * pourcentage\n",
    "        \n",
    "        return new_color( self.R, self.G, self.B)\n",
    "    '''\n",
    "    Chaine de caractére representant cet objet couleur\n",
    "    Retourne un string contenant les valeurs des composantes R,G,B\n",
    "    '''\n",
    "    def toString(self):\n",
    "        return 'new_color(' + self.R + ',' + self.G + ',' + self.B + ')'\n",
    "    '''\n",
    "    Comparaison de cet objet couleur avec color\n",
    "    Retourne un booloean\n",
    "    '''\n",
    "    def equals(self,color):\n",
    "        return self.getR() == color.getR() and self.getG() == color.getG() and self.getB() == color.getB()\n",
    "    '''\n",
    "     Calcul de la Luminance. La qualité des \n",
    "     images dans les écrans plasmas modernes est une combinaison linéaire des trois couleurs et est définie par\n",
    "     l'equation Y = 0.299r + 0.587g + 0.114b\n",
    "     \n",
    "    '''\n",
    "    def luminance(self):\n",
    "        self.Y = 0.299 * self.R + 0.587 * self.G + 0.114 * self.B\n",
    "    '''\n",
    "     Calcul du niveau de gris. Il faut remplacer chaque intensité de couleur par la valeur entiére de la luminance.\n",
    "     Il faudra créer une nouvelle couleur avec des intensités égales à la luminance\n",
    "    '''\n",
    "    def grayScale(self):\n",
    "        self.R = int(self.Y)\n",
    "        self.G = int(self.Y)\n",
    "        self.B = int(self.Y)\n",
    "        return new_color(self.R, self.G, self.B)\n",
    "        \n",
    "    '''\n",
    "     Compatibilité deux couleurs. Deux couleurs sont compatibles si la différence de leur luminance fait au moins 128\n",
    "     Retourne un boolean qui vaut true si les deux couleurs sont compatibles et false sinon\n",
    "    '''\n",
    "    def compatible(self, couleur):\n",
    "        if abs(self.Y - couleur.Y) >= 128:\n",
    "            return True\n",
    "        else:\n",
    "            return False\n",
    "        \n",
    "    \n",
    "    '''\n",
    "     Addition de couleur\n",
    "    '''\n",
    "    def add(self, col):\n",
    "        self.R = self.R + col.R\n",
    "        self.G = self.G + col.G\n",
    "        self.B = self.B + col.B\n",
    "        return new_color(self.R, self.G, self.B)\n",
    "    '''\n",
    "    Fonction permettant d'afficher une couleur dans un cercle. Vous pouvez l'utiliser.\n",
    "    '''\n",
    "    def showColor(self):\n",
    "        fig, ax = plt.subplots()\n",
    "        \n",
    "        # create a grid to plot the color\n",
    "        \n",
    "        grid = np.mgrid[0.2:0.8:3j, 0.2:0.8:3j].reshape(2, -1).T\n",
    "        \n",
    "        # add a circle\n",
    "        \n",
    "        circle = mpatches.Circle(grid[0], 0.05, ec=\"none\",color=(self.R/255,self.G/255,self.B/255))\n",
    "        ax.add_patch(circle)\n",
    "        \n",
    "        #ax.add_line(line)\n",
    "\n",
    "        plt.axis('equal')\n",
    "        plt.axis('off')\n",
    "        plt.tight_layout()\n",
    "        plt.show()\n"
   ]
  },
  {
   "cell_type": "code",
   "execution_count": 3,
   "metadata": {},
   "outputs": [
    {
     "data": {
      "image/png": "[encoded data removed]",
      "text/plain": [
       "<Figure size 432x288 with 1 Axes>"
      ]
     },
     "metadata": {
      "needs_background": "light"
     },
     "output_type": "display_data"
    }
   ],
   "source": [
    "col=Couleur(0,10,156)\n",
    "col.showColor()"
   ]
  },
  {
   "cell_type": "code",
   "execution_count": 4,
   "metadata": {},
   "outputs": [
    {
     "data": {
      "image/png": "[encoded data removed]",
      "text/plain": [
       "<Figure size 432x288 with 1 Axes>"
      ]
     },
     "metadata": {
      "needs_background": "light"
     },
     "output_type": "display_data"
    }
   ],
   "source": [
    "col=Couleur(0,255,0)\n",
    "col.showColor()"
   ]
  },
  {
   "cell_type": "code",
   "execution_count": 5,
   "metadata": {},
   "outputs": [
    {
     "data": {
      "image/png": "[encoded data removed]",
      "text/plain": [
       "<Figure size 432x288 with 1 Axes>"
      ]
     },
     "metadata": {
      "needs_background": "light"
     },
     "output_type": "display_data"
    }
   ],
   "source": [
    "col=Couleur(255,0,0)\n",
    "col.showColor()"
   ]
  },
  {
   "cell_type": "code",
   "execution_count": 6,
   "metadata": {},
   "outputs": [
    {
     "data": {
      "image/png": "[encoded data removed]",
      "text/plain": [
       "<Figure size 432x288 with 1 Axes>"
      ]
     },
     "metadata": {
      "needs_background": "light"
     },
     "output_type": "display_data"
    }
   ],
   "source": [
    "col=Couleur(0,0,255)\n",
    "col.showColor()"
   ]
  },
  {
   "cell_type": "code",
   "execution_count": 7,
   "metadata": {},
   "outputs": [
    {
     "data": {
      "image/png": "[encoded data removed]",
      "text/plain": [
       "<Figure size 432x288 with 1 Axes>"
      ]
     },
     "metadata": {
      "needs_background": "light"
     },
     "output_type": "display_data"
    }
   ],
   "source": [
    "col=Couleur(0,0,0)\n",
    "col.showColor()"
   ]
  },
  {
   "cell_type": "code",
   "execution_count": 8,
   "metadata": {},
   "outputs": [
    {
     "data": {
      "image/png": "[encoded data removed]",
      "text/plain": [
       "<Figure size 432x288 with 1 Axes>"
      ]
     },
     "metadata": {
      "needs_background": "light"
     },
     "output_type": "display_data"
    }
   ],
   "source": [
    "col=Couleur(0,64,128)\n",
    "col.showColor()"
   ]
  },
  {
   "cell_type": "code",
   "execution_count": 9,
   "metadata": {},
   "outputs": [
    {
     "data": {
      "image/png": "[encoded data removed]",
      "text/plain": [
       "<Figure size 432x288 with 1 Axes>"
      ]
     },
     "metadata": {
      "needs_background": "light"
     },
     "output_type": "display_data"
    }
   ],
   "source": [
    "col=Couleur(119,33,27)\n",
    "col.showColor()"
   ]
  },
  {
   "cell_type": "code",
   "execution_count": null,
   "metadata": {},
   "outputs": [],
   "source": []
  }
 ],
 "metadata": {
  "kernelspec": {
   "display_name": "Python 3",
   "language": "python",
   "name": "python3"
  },
  "language_info": {
   "codemirror_mode": {
    "name": "ipython",
    "version": 3
   },
   "file_extension": ".py",
   "mimetype": "text/x-python",
   "name": "python",
   "nbconvert_exporter": "python",
   "pygments_lexer": "ipython3",
   "version": "3.7.4"
  }
 },
 "nbformat": 4,
 "nbformat_minor": 2
}
